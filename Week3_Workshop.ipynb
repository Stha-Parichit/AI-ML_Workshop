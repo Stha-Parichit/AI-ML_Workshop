{
 "cells": [
  {
   "cell_type": "markdown",
   "id": "87fcd30f-7115-4f4c-b43c-aedba1c35b80",
   "metadata": {},
   "source": [
    "Task 1: MCP Neurons\n",
    "Implementation Tasks:\n",
    "\n",
    "Implement MCP Neurons for AND and OR Boolean functions.\n",
    "Answer the Following Questions:\n"
   ]
  },
  {
   "cell_type": "markdown",
   "id": "9ee76eb5-d926-441f-9f33-6c38504fc41c",
   "metadata": {},
   "source": [
    "Question 1: List out all the limitations of MCP Neurons.\n",
    "\n",
    "The perceptron operates with two main limitations because it cannot handle non-linear separations or execute XOR functions. Reinforcement learning is prevented because the perceptron maintains fixed manual thresholds that operators must select from a given range. Because it produces limited output as 0 or 1 binaries the perceptron experiences restricted performance in demanding tasks since it cannot establish multi-level networks."
   ]
  },
  {
   "cell_type": "markdown",
   "id": "6081592d-8e8d-40b0-8e10-139a70ccad22",
   "metadata": {},
   "source": [
    "Question 2: Can you develop a logic to solve the XOR function using an MCP Neuron? (Can you devise if-else rules?)\n",
    "\n",
    "The XOR problem cannot be solved by MCP neurons because the XOR function has no linear-separability property. The non-linear boundary needed for XOR is outside the capability of MCP neurons to generate.\n",
    "\n"
   ]
  },
  {
   "cell_type": "code",
   "execution_count": 1,
   "id": "0c64226d-49f9-45be-a101-445700ebe3cf",
   "metadata": {},
   "outputs": [],
   "source": [
    "import numpy as np\n",
    "import pandas as pd\n",
    "import matplotlib.pyplot as plt\n"
   ]
  },
  {
   "cell_type": "code",
   "execution_count": 3,
   "id": "cc15d44d-cf00-4df9-b360-410db02e8dcc",
   "metadata": {},
   "outputs": [
    {
     "name": "stdout",
     "output_type": "stream",
     "text": [
      "Output of AND gate for inputs [0, 0, 1, 1] and [0, 1, 0, 1] with threshold 2: [0, 0, 0, 1]\n"
     ]
    }
   ],
   "source": [
    "def MCP_Neurons_AND(X1, X2, T):\n",
    "    assert len(X1) == len(X2)\n",
    "    state_neuron = []\n",
    "    for i in range(len(X1)):\n",
    "        if (X1[i] + X2[i]) >= T:\n",
    "            state_neuron.append(1)\n",
    "        else:\n",
    "            state_neuron.append(0)\n",
    "    return state_neuron\n",
    "    \n",
    "X1 = [0, 0, 1, 1]\n",
    "X2 = [0, 1, 0, 1]\n",
    "T = 2  \n",
    "result = MCP_Neurons_AND(X1, X2, T)\n",
    "print(f\"Output of AND gate for inputs {X1} and {X2} with threshold {T}: {result}\")\n"
   ]
  },
  {
   "cell_type": "code",
   "execution_count": 5,
   "id": "af751f0e-677c-4444-9688-e6dd76e76861",
   "metadata": {},
   "outputs": [
    {
     "name": "stdout",
     "output_type": "stream",
     "text": [
      "Output of OR gate for inputs [0, 0, 1, 1] and [0, 1, 0, 1] with threshold 1: [0, 1, 1, 1]\n"
     ]
    }
   ],
   "source": [
    "def MCP_Neurons_OR(X1, X2, T):\n",
    "    assert len(X1) == len(X2)\n",
    "    state_neuron = []\n",
    "    for i in range(len(X1)):\n",
    "        if (X1[i] + X2[i]) >= T:\n",
    "            state_neuron.append(1)\n",
    "        else:\n",
    "            state_neuron.append(0)\n",
    "    return state_neuron\n",
    "    \n",
    "X1 = [0, 0, 1, 1]\n",
    "X2 = [0, 1, 0, 1]\n",
    "T = 1  \n",
    "result_or = MCP_Neurons_OR(X1, X2, T)\n",
    "print(f\"Output of OR gate for inputs {X1} and {X2} with threshold {T}: {result_or}\")\n"
   ]
  },
  {
   "cell_type": "markdown",
   "id": "d7debb6d-2877-430f-bf56-d6ce2c263f4b",
   "metadata": {},
   "source": [
    "Task 2"
   ]
  },
  {
   "cell_type": "code",
   "execution_count": 11,
   "id": "4e77ea32-5ffd-40bd-8afc-9a2356d16cc4",
   "metadata": {
    "scrolled": true
   },
   "outputs": [
    {
     "name": "stdout",
     "output_type": "stream",
     "text": [
      "Feature matrix shape: (12665, 784)\n",
      "Label vector shape: (12665,)\n"
     ]
    }
   ],
   "source": [
    "#Step 1: Load the Dataset\n",
    "df_0_1 = pd.read_csv(\"mnist_0_and_1.csv\")\n",
    "X = df_0_1.drop(columns=[\"label\"]).values  \n",
    "y = df_0_1[\"label\"].values\n",
    "print(\"Feature matrix shape:\", X.shape)\n",
    "print(\"Label vector shape:\", y.shape)\n"
   ]
  },
  {
   "cell_type": "markdown",
   "id": "a5d7d1e7-74d0-423f-b04c-c6cb8ef1244e",
   "metadata": {},
   "source": [
    "Question 3: What does the shape of X represent?\n",
    "\n",
    "Every image row enters as a flattened set of 784 pixels in this matrix with pixel values displayed in separate columns.\n"
   ]
  },
  {
   "cell_type": "code",
   "execution_count": 19,
   "id": "ce1ac8e0-c78b-4b54-b460-2a732b1a17a7",
   "metadata": {},
   "outputs": [
    {
     "data": {
      "image/png": "[encoded data removed]",
      "text/plain": [
       "<Figure size 1000x500 with 10 Axes>"
      ]
     },
     "metadata": {},
     "output_type": "display_data"
    }
   ],
   "source": [
    " images_0 = X[y == 0] \n",
    " images_1 = X[y == 1] \n",
    "\n",
    "fig, axes = plt.subplots(2, 5, figsize=(10, 5))\n",
    "if len(images_0) < 5 or len(images_1) < 5:\n",
    "    print(\"Error: Not enough images in images_0 or images_1 to plot 5 images.\")\n",
    "else:\n",
    "    for i in range(5):\n",
    "        axes[0, i].imshow(images_0[i].reshape(28, 28), cmap=\"gray\")\n",
    "        axes[0, i].set_title(\"Label: 0\")\n",
    "        axes[0, i].axis(\"off\")\n",
    "        axes[1, i].imshow(images_1[i].reshape(28, 28), cmap=\"gray\")\n",
    "        axes[1, i].set_title(\"Label: 1\")\n",
    "        axes[1, i].axis(\"off\")\n",
    "    plt.suptitle(\"First 5 Images of 0 and 1 from MNIST Subset\")\n",
    "    plt.show()\n"
   ]
  },
  {
   "cell_type": "code",
   "execution_count": 23,
   "id": "2d5edad1-fc8d-427c-b73e-4b37cdd017b0",
   "metadata": {},
   "outputs": [],
   "source": [
    " weights = np.zeros(X.shape[1]) # 784 weights (one for each pixel)\n",
    " bias = 0\n",
    " learning_rate = 0.1\n",
    " epochs = 100"
   ]
  },
  {
   "cell_type": "markdown",
   "id": "da940b2f-fc48-4586-8630-e07a3e8fc7c9",
   "metadata": {},
   "source": [
    "Question 5: What does the weights array represent in this context?\n",
    "\n",
    "The significance of every image pixel exists for determining the binary status of \"0\" or \"1.\""
   ]
  },
  {
   "cell_type": "markdown",
   "id": "64394f4e-7ade-4374-ab6b-2bee6a291c7b",
   "metadata": {},
   "source": [
    "Question 6: Why are we initializing the weights to zero? What effect could this have on the training process?\n",
    "\n",
    "Simple calculations result from zero initialization yet it means all neurons tend to acquire similar learning patterns."
   ]
  },
  {
   "cell_type": "code",
   "execution_count": 25,
   "id": "311fc097-5dd6-44e4-9332-7de98e850c43",
   "metadata": {},
   "outputs": [],
   "source": [
    "import numpy as np\n",
    "\n",
    "def decision_function(X, weights, bias):\n",
    "    \"\"\"\n",
    "    Compute the predicted labels for the input data.\n",
    "\n",
    "    Parameters:\n",
    "    - X: Features (input data) as a numpy array of shape (n_samples, n_features)\n",
    "    - weights: Updated weights after training\n",
    "    - bias: Updated bias after training\n",
    "\n",
    "    Returns:\n",
    "    - y_pred_all: The predicted labels for the input data\n",
    "    \"\"\"\n",
    "    predictions = np.dot(X, weights) + bias\n",
    "    y_pred_all = np.where(predictions >= 0, 1, 0)  # Step function activation\n",
    "    return y_pred_all\n"
   ]
  },
  {
   "cell_type": "code",
   "execution_count": 27,
   "id": "b57911d3-a2ba-4ffa-b145-b411f86ac306",
   "metadata": {},
   "outputs": [],
   "source": [
    "import numpy as np\n",
    "\n",
    "def train_perceptron(X, y, weights, bias, learning_rate=0.1, epochs=100):\n",
    "    \"\"\"\n",
    "    Train the perceptron using the Perceptron Learning Algorithm.\n",
    "    \n",
    "    Parameters:\n",
    "    - X: Features (input data) as a numpy array of shape (n_samples, n_features)\n",
    "    - y: Labels (true output) as a numpy array of shape (n_samples,)\n",
    "    - weights: Initial weights as a numpy array of shape (n_features,)\n",
    "    - bias: Initial bias value (scalar)\n",
    "    - learning_rate: Learning rate for weight updates (default is 0.1)\n",
    "    - epochs: Number of iterations to train the model (default is 100)\n",
    "    \n",
    "    Returns:\n",
    "    - weights: Updated weights after training\n",
    "    - bias: Updated bias after training\n",
    "    - accuracy: Total correct predictions\n",
    "    \"\"\"\n",
    "    n_samples, n_features = X.shape\n",
    "    accuracy_list = []\n",
    "    for epoch in range(epochs):\n",
    "        correct_predictions = 0\n",
    "        for i in range(n_samples):\n",
    "            linear_output = np.dot(X[i], weights) + bias\n",
    "            prediction = 1 if linear_output >= 0 else 0\n",
    "            if prediction != y[i]:\n",
    "                weights += learning_rate * (y[i] - prediction) * X[i]\n",
    "                bias += learning_rate * (y[i] - prediction)\n",
    "            else:\n",
    "                correct_predictions += 1\n",
    "        accuracy = correct_predictions / n_samples\n",
    "        accuracy_list.append(accuracy)\n",
    "        print(f'Epoch {epoch + 1}/{epochs}, Accuracy: {accuracy * 100:.2f}%')\n",
    "    accuracy = np.mean(accuracy_list)\n",
    "    return weights, bias, accuracy\n"
   ]
  },
  {
   "cell_type": "markdown",
   "id": "43b99bdb-a7cd-400b-8b04-adb1b5145886",
   "metadata": {},
   "source": [
    "Question 7: What is the purpose of the output = np.dot(X[i], weights) + bias line?\n",
    "\n",
    "The output value from the line function is derived by performing an inner product of X[i] and weights followed by an addition of bias."
   ]
  },
  {
   "cell_type": "markdown",
   "id": "c72ece59-2a5b-4861-9b91-0a1bf749f72e",
   "metadata": {},
   "source": [
    "Question 8: What happens when the prediction is wrong? How are the weights and bias updated?\n",
    "\n",
    "The perceptron uses incorrect predictions to evaluate and adjust weights and bias units which improve future prediction accuracy. The Perceptron Learning Rule performs the process of weight and bias adjustment."
   ]
  },
  {
   "cell_type": "code",
   "execution_count": 29,
   "id": "7d65e551-036f-4362-b068-cfbb0a8fa442",
   "metadata": {},
   "outputs": [
    {
     "name": "stdout",
     "output_type": "stream",
     "text": [
      "Epoch 1/100, Accuracy: 99.67%\n",
      "Epoch 2/100, Accuracy: 99.82%\n",
      "Epoch 3/100, Accuracy: 99.87%\n",
      "Epoch 4/100, Accuracy: 99.87%\n",
      "Epoch 5/100, Accuracy: 99.90%\n",
      "Epoch 6/100, Accuracy: 99.93%\n",
      "Epoch 7/100, Accuracy: 99.98%\n",
      "Epoch 8/100, Accuracy: 99.95%\n",
      "Epoch 9/100, Accuracy: 99.89%\n",
      "Epoch 10/100, Accuracy: 99.92%\n",
      "Epoch 11/100, Accuracy: 99.95%\n",
      "Epoch 12/100, Accuracy: 99.98%\n",
      "Epoch 13/100, Accuracy: 100.00%\n",
      "Epoch 14/100, Accuracy: 100.00%\n",
      "Epoch 15/100, Accuracy: 100.00%\n",
      "Epoch 16/100, Accuracy: 100.00%\n",
      "Epoch 17/100, Accuracy: 100.00%\n",
      "Epoch 18/100, Accuracy: 100.00%\n",
      "Epoch 19/100, Accuracy: 100.00%\n",
      "Epoch 20/100, Accuracy: 100.00%\n",
      "Epoch 21/100, Accuracy: 100.00%\n",
      "Epoch 22/100, Accuracy: 100.00%\n",
      "Epoch 23/100, Accuracy: 100.00%\n",
      "Epoch 24/100, Accuracy: 100.00%\n",
      "Epoch 25/100, Accuracy: 100.00%\n",
      "Epoch 26/100, Accuracy: 100.00%\n",
      "Epoch 27/100, Accuracy: 100.00%\n",
      "Epoch 28/100, Accuracy: 100.00%\n",
      "Epoch 29/100, Accuracy: 100.00%\n",
      "Epoch 30/100, Accuracy: 100.00%\n",
      "Epoch 31/100, Accuracy: 100.00%\n",
      "Epoch 32/100, Accuracy: 100.00%\n",
      "Epoch 33/100, Accuracy: 100.00%\n",
      "Epoch 34/100, Accuracy: 100.00%\n",
      "Epoch 35/100, Accuracy: 100.00%\n",
      "Epoch 36/100, Accuracy: 100.00%\n",
      "Epoch 37/100, Accuracy: 100.00%\n",
      "Epoch 38/100, Accuracy: 100.00%\n",
      "Epoch 39/100, Accuracy: 100.00%\n",
      "Epoch 40/100, Accuracy: 100.00%\n",
      "Epoch 41/100, Accuracy: 100.00%\n",
      "Epoch 42/100, Accuracy: 100.00%\n",
      "Epoch 43/100, Accuracy: 100.00%\n",
      "Epoch 44/100, Accuracy: 100.00%\n",
      "Epoch 45/100, Accuracy: 100.00%\n",
      "Epoch 46/100, Accuracy: 100.00%\n",
      "Epoch 47/100, Accuracy: 100.00%\n",
      "Epoch 48/100, Accuracy: 100.00%\n",
      "Epoch 49/100, Accuracy: 100.00%\n",
      "Epoch 50/100, Accuracy: 100.00%\n",
      "Epoch 51/100, Accuracy: 100.00%\n",
      "Epoch 52/100, Accuracy: 100.00%\n",
      "Epoch 53/100, Accuracy: 100.00%\n",
      "Epoch 54/100, Accuracy: 100.00%\n",
      "Epoch 55/100, Accuracy: 100.00%\n",
      "Epoch 56/100, Accuracy: 100.00%\n",
      "Epoch 57/100, Accuracy: 100.00%\n",
      "Epoch 58/100, Accuracy: 100.00%\n",
      "Epoch 59/100, Accuracy: 100.00%\n",
      "Epoch 60/100, Accuracy: 100.00%\n",
      "Epoch 61/100, Accuracy: 100.00%\n",
      "Epoch 62/100, Accuracy: 100.00%\n",
      "Epoch 63/100, Accuracy: 100.00%\n",
      "Epoch 64/100, Accuracy: 100.00%\n",
      "Epoch 65/100, Accuracy: 100.00%\n",
      "Epoch 66/100, Accuracy: 100.00%\n",
      "Epoch 67/100, Accuracy: 100.00%\n",
      "Epoch 68/100, Accuracy: 100.00%\n",
      "Epoch 69/100, Accuracy: 100.00%\n",
      "Epoch 70/100, Accuracy: 100.00%\n",
      "Epoch 71/100, Accuracy: 100.00%\n",
      "Epoch 72/100, Accuracy: 100.00%\n",
      "Epoch 73/100, Accuracy: 100.00%\n",
      "Epoch 74/100, Accuracy: 100.00%\n",
      "Epoch 75/100, Accuracy: 100.00%\n",
      "Epoch 76/100, Accuracy: 100.00%\n",
      "Epoch 77/100, Accuracy: 100.00%\n",
      "Epoch 78/100, Accuracy: 100.00%\n",
      "Epoch 79/100, Accuracy: 100.00%\n",
      "Epoch 80/100, Accuracy: 100.00%\n",
      "Epoch 81/100, Accuracy: 100.00%\n",
      "Epoch 82/100, Accuracy: 100.00%\n",
      "Epoch 83/100, Accuracy: 100.00%\n",
      "Epoch 84/100, Accuracy: 100.00%\n",
      "Epoch 85/100, Accuracy: 100.00%\n",
      "Epoch 86/100, Accuracy: 100.00%\n",
      "Epoch 87/100, Accuracy: 100.00%\n",
      "Epoch 88/100, Accuracy: 100.00%\n",
      "Epoch 89/100, Accuracy: 100.00%\n",
      "Epoch 90/100, Accuracy: 100.00%\n",
      "Epoch 91/100, Accuracy: 100.00%\n",
      "Epoch 92/100, Accuracy: 100.00%\n",
      "Epoch 93/100, Accuracy: 100.00%\n",
      "Epoch 94/100, Accuracy: 100.00%\n",
      "Epoch 95/100, Accuracy: 100.00%\n",
      "Epoch 96/100, Accuracy: 100.00%\n",
      "Epoch 97/100, Accuracy: 100.00%\n",
      "Epoch 98/100, Accuracy: 100.00%\n",
      "Epoch 99/100, Accuracy: 100.00%\n",
      "Epoch 100/100, Accuracy: 100.00%\n",
      "The Final Accuracy is:  0.9998712988551125\n"
     ]
    }
   ],
   "source": [
    " # After training the model with the perceptron_learning_algorithm\n",
    " weights, bias, accuracy = train_perceptron(X, y, weights, bias)\n",
    " # Evaluate the model using the new function\n",
    " print(\"The Final Accuracy is: \", accuracy)"
   ]
  },
  {
   "cell_type": "code",
   "execution_count": 33,
   "id": "9bcd9420-38cc-4857-b237-dbde81db0d49",
   "metadata": {},
   "outputs": [
    {
     "name": "stdout",
     "output_type": "stream",
     "text": [
      "Final Accuracy: 1.0000\n",
      "All images were correctly classified!\n"
     ]
    }
   ],
   "source": [
    "import numpy as np\n",
    "import matplotlib.pyplot as plt\n",
    "# Get predictions for all data points\n",
    "predictions = np.dot(X, weights) + bias\n",
    "y_pred = np.where(predictions >= 0, 1, 0)\n",
    "# Calculate final accuracy\n",
    "final_accuracy = np.mean(y_pred == y)\n",
    "print(f\"Final Accuracy: {final_accuracy:.4f}\")\n",
    "# Step 5: Visualize Misclassified Images\n",
    "misclassified_idx = np.where(y_pred != y)[0]\n",
    "if len(misclassified_idx) > 0:\n",
    "    fig, axes = plt.subplots(2, 5, figsize=(10, 5))\n",
    "    for ax, idx in zip(axes.flat, misclassified_idx[:10]):  # Show 10 misclassified images\n",
    "        ax.imshow(X[idx].reshape(28, 28), cmap=\"gray\")\n",
    "        ax.set_title(f\"Pred: {y_pred[idx]}, True: {y[idx]}\")\n",
    "        ax.axis(\"off\")\n",
    "    plt.suptitle(\"Misclassified Images\")\n",
    "    plt.show()\n",
    "else:\n",
    "    print(\"All images were correctly classified!\")\n"
   ]
  },
  {
   "cell_type": "markdown",
   "id": "474ee831-eb19-4753-b1d3-b8e62e5edee5",
   "metadata": {},
   "source": [
    "Question 9: Why is the final accuracy important, and what do you expect it to be?\n",
    "\n",
    "The indices which show the images in the dataset fail to match the predicted results are stored in misclassified_idx. The list shows the positions of images that the model incorrectly labeled."
   ]
  },
  {
   "cell_type": "markdown",
   "id": "c7d9d301-c0e3-43c1-90d3-e3a340c7cb4d",
   "metadata": {},
   "source": [
    "Question 10: What does misclassified_idx store, and how is it used in this code?\n",
    "\n",
    "The misclassified_idx variable contains the image indexes which demonstrate incorrect model predictions."
   ]
  },
  {
   "cell_type": "markdown",
   "id": "df02e343-3ccf-43c8-894e-2254127720fc",
   "metadata": {},
   "source": [
    "Question 11: How do you interpret the result if the output is \"All images were correctly classified!\"?\n",
    "\n",
    "A successful model which successfully identifies all the labels in the dataset will display \"All images were correctly classified!\" thus indicating 100% accuracy. The correct decision boundary learning suggests that the model succeeded but this discovery might point towards overfitting since it only occurs on the training set."
   ]
  },
  {
   "cell_type": "markdown",
   "id": "aa7aab7b-3687-4993-b0f3-51c8e9eb2d33",
   "metadata": {},
   "source": [
    "Task 3: Perceptron Algorithm for 3 vs 5 Classification\n",
    "To-Do:\n",
    "Implement each step of the Perceptron Algorithm as done for the 0 vs 1 classification task.\n",
    "Visualize the final misclassified images and provide a conclusion."
   ]
  },
  {
   "cell_type": "code",
   "execution_count": 35,
   "id": "421455fe-f622-49cc-95d6-106d033deec6",
   "metadata": {},
   "outputs": [
    {
     "name": "stdout",
     "output_type": "stream",
     "text": [
      "Epoch 1/100, Accuracy: 0.00%\n",
      "Epoch 2/100, Accuracy: 0.00%\n",
      "Epoch 3/100, Accuracy: 0.00%\n",
      "Epoch 4/100, Accuracy: 0.00%\n",
      "Epoch 5/100, Accuracy: 0.00%\n",
      "Epoch 6/100, Accuracy: 0.00%\n",
      "Epoch 7/100, Accuracy: 0.00%\n",
      "Epoch 8/100, Accuracy: 0.00%\n",
      "Epoch 9/100, Accuracy: 0.00%\n",
      "Epoch 10/100, Accuracy: 0.00%\n",
      "Epoch 11/100, Accuracy: 0.00%\n",
      "Epoch 12/100, Accuracy: 0.00%\n",
      "Epoch 13/100, Accuracy: 0.00%\n",
      "Epoch 14/100, Accuracy: 0.00%\n",
      "Epoch 15/100, Accuracy: 0.00%\n",
      "Epoch 16/100, Accuracy: 0.00%\n",
      "Epoch 17/100, Accuracy: 0.00%\n",
      "Epoch 18/100, Accuracy: 0.00%\n",
      "Epoch 19/100, Accuracy: 0.00%\n",
      "Epoch 20/100, Accuracy: 0.00%\n",
      "Epoch 21/100, Accuracy: 0.00%\n",
      "Epoch 22/100, Accuracy: 0.00%\n",
      "Epoch 23/100, Accuracy: 0.00%\n",
      "Epoch 24/100, Accuracy: 0.00%\n",
      "Epoch 25/100, Accuracy: 0.00%\n",
      "Epoch 26/100, Accuracy: 0.00%\n",
      "Epoch 27/100, Accuracy: 0.00%\n",
      "Epoch 28/100, Accuracy: 0.00%\n",
      "Epoch 29/100, Accuracy: 0.00%\n",
      "Epoch 30/100, Accuracy: 0.00%\n",
      "Epoch 31/100, Accuracy: 0.00%\n",
      "Epoch 32/100, Accuracy: 0.00%\n",
      "Epoch 33/100, Accuracy: 0.00%\n",
      "Epoch 34/100, Accuracy: 0.00%\n",
      "Epoch 35/100, Accuracy: 0.00%\n",
      "Epoch 36/100, Accuracy: 0.00%\n",
      "Epoch 37/100, Accuracy: 0.00%\n",
      "Epoch 38/100, Accuracy: 0.00%\n",
      "Epoch 39/100, Accuracy: 0.00%\n",
      "Epoch 40/100, Accuracy: 0.00%\n",
      "Epoch 41/100, Accuracy: 0.00%\n",
      "Epoch 42/100, Accuracy: 0.00%\n",
      "Epoch 43/100, Accuracy: 0.00%\n",
      "Epoch 44/100, Accuracy: 0.00%\n",
      "Epoch 45/100, Accuracy: 0.00%\n",
      "Epoch 46/100, Accuracy: 0.00%\n",
      "Epoch 47/100, Accuracy: 0.00%\n",
      "Epoch 48/100, Accuracy: 0.00%\n",
      "Epoch 49/100, Accuracy: 0.00%\n",
      "Epoch 50/100, Accuracy: 0.00%\n",
      "Epoch 51/100, Accuracy: 0.00%\n",
      "Epoch 52/100, Accuracy: 0.00%\n",
      "Epoch 53/100, Accuracy: 0.00%\n",
      "Epoch 54/100, Accuracy: 0.00%\n",
      "Epoch 55/100, Accuracy: 0.00%\n",
      "Epoch 56/100, Accuracy: 0.00%\n",
      "Epoch 57/100, Accuracy: 0.00%\n",
      "Epoch 58/100, Accuracy: 0.00%\n",
      "Epoch 59/100, Accuracy: 0.00%\n",
      "Epoch 60/100, Accuracy: 0.00%\n",
      "Epoch 61/100, Accuracy: 0.00%\n",
      "Epoch 62/100, Accuracy: 0.00%\n",
      "Epoch 63/100, Accuracy: 0.00%\n",
      "Epoch 64/100, Accuracy: 0.00%\n",
      "Epoch 65/100, Accuracy: 0.00%\n",
      "Epoch 66/100, Accuracy: 0.00%\n",
      "Epoch 67/100, Accuracy: 0.00%\n",
      "Epoch 68/100, Accuracy: 0.00%\n",
      "Epoch 69/100, Accuracy: 0.00%\n",
      "Epoch 70/100, Accuracy: 0.00%\n",
      "Epoch 71/100, Accuracy: 0.00%\n",
      "Epoch 72/100, Accuracy: 0.00%\n",
      "Epoch 73/100, Accuracy: 0.00%\n",
      "Epoch 74/100, Accuracy: 0.00%\n",
      "Epoch 75/100, Accuracy: 0.00%\n",
      "Epoch 76/100, Accuracy: 0.00%\n",
      "Epoch 77/100, Accuracy: 0.00%\n",
      "Epoch 78/100, Accuracy: 0.00%\n",
      "Epoch 79/100, Accuracy: 0.00%\n",
      "Epoch 80/100, Accuracy: 0.00%\n",
      "Epoch 81/100, Accuracy: 0.00%\n",
      "Epoch 82/100, Accuracy: 0.00%\n",
      "Epoch 83/100, Accuracy: 0.00%\n",
      "Epoch 84/100, Accuracy: 0.00%\n",
      "Epoch 85/100, Accuracy: 0.00%\n",
      "Epoch 86/100, Accuracy: 0.00%\n",
      "Epoch 87/100, Accuracy: 0.00%\n",
      "Epoch 88/100, Accuracy: 0.00%\n",
      "Epoch 89/100, Accuracy: 0.00%\n",
      "Epoch 90/100, Accuracy: 0.00%\n",
      "Epoch 91/100, Accuracy: 0.00%\n",
      "Epoch 92/100, Accuracy: 0.00%\n",
      "Epoch 93/100, Accuracy: 0.00%\n",
      "Epoch 94/100, Accuracy: 0.00%\n",
      "Epoch 95/100, Accuracy: 0.00%\n",
      "Epoch 96/100, Accuracy: 0.00%\n",
      "Epoch 97/100, Accuracy: 0.00%\n",
      "Epoch 98/100, Accuracy: 0.00%\n",
      "Epoch 99/100, Accuracy: 0.00%\n",
      "Epoch 100/100, Accuracy: 0.00%\n"
     ]
    },
    {
     "ename": "ValueError",
     "evalue": "too many values to unpack (expected 2)",
     "output_type": "error",
     "traceback": [
      "\u001b[1;31m---------------------------------------------------------------------------\u001b[0m",
      "\u001b[1;31mValueError\u001b[0m                                Traceback (most recent call last)",
      "Cell \u001b[1;32mIn[35], line 10\u001b[0m\n\u001b[0;32m      7\u001b[0m weights_3_5 \u001b[38;5;241m=\u001b[39m np\u001b[38;5;241m.\u001b[39mzeros(X_3_5\u001b[38;5;241m.\u001b[39mshape[\u001b[38;5;241m1\u001b[39m])\n\u001b[0;32m      8\u001b[0m bias_3_5 \u001b[38;5;241m=\u001b[39m \u001b[38;5;241m0\u001b[39m\n\u001b[1;32m---> 10\u001b[0m weights_3_5, bias_3_5 \u001b[38;5;241m=\u001b[39m train_perceptron(X_3_5, y_3_5, weights_3_5, bias_3_5)\n",
      "\u001b[1;31mValueError\u001b[0m: too many values to unpack (expected 2)"
     ]
    }
   ],
   "source": [
    "df_3_5 = pd.read_csv(\"mnist_3_and_5.csv\")\n",
    "X_3_5 = df_3_5.drop(columns=[\"label\"]).values\n",
    "y_3_5 = df_3_5[\"label\"].values\n",
    "weights_3_5 = np.zeros(X_3_5.shape[1])\n",
    "bias_3_5 = 0\n",
    "weights_3_5, bias_3_5 = train_perceptron(X_3_5, y_3_5, weights_3_5, bias_3_5)\n"
   ]
  },
  {
   "cell_type": "code",
   "execution_count": 37,
   "id": "e4804462-e038-4542-a353-8076fb5ad930",
   "metadata": {},
   "outputs": [
    {
     "data": {
      "image/png": "[encoded data removed]",
      "text/plain": [
       "<Figure size 1000x500 with 10 Axes>"
      ]
     },
     "metadata": {},
     "output_type": "display_data"
    }
   ],
   "source": [
    "predictions_3_5 = decision_function(X_3_5, weights_3_5, bias_3_5)\n",
    "misclassified_idx_3_5 = np.where(predictions_3_5 != y_3_5)[0]\n",
    "\n",
    "if len(misclassified_idx_3_5) > 0:\n",
    "    fig, axes = plt.subplots(2, 5, figsize=(10, 5))\n",
    "    for ax, idx in zip(axes.flat, misclassified_idx_3_5[:10]):\n",
    "        ax.imshow(X_3_5[idx].reshape(28, 28), cmap=\"gray\")\n",
    "        ax.set_title(f\"Pred: {predictions_3_5[idx]}, True: {y_3_5[idx]}\")\n",
    "        ax.axis(\"off\")\n",
    "    plt.show()\n",
    "else:\n",
    "    print(\"All images were correctly classified!\")\n"
   ]
  },
  {
   "cell_type": "code",
   "execution_count": null,
   "id": "13dca191-239f-4610-8613-4f14ff8483a7",
   "metadata": {},
   "outputs": [],
   "source": []
  }
 ],
 "metadata": {
  "kernelspec": {
   "display_name": "Python 3 (ipykernel)",
   "language": "python",
   "name": "python3"
  },
  "language_info": {
   "codemirror_mode": {
    "name": "ipython",
    "version": 3
   },
   "file_extension": ".py",
   "mimetype": "text/x-python",
   "name": "python",
   "nbconvert_exporter": "python",
   "pygments_lexer": "ipython3",
   "version": "3.12.4"
  }
 },
 "nbformat": 4,
 "nbformat_minor": 5
}
