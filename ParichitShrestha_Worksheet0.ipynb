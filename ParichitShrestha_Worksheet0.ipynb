{
 "cells": [
  {
   "cell_type": "markdown",
   "id": "f845365f-aa32-40af-b885-eacb475bbbfe",
   "metadata": {},
   "source": [
    "1. Exercise on Functions:\n",
    "a. Create a Python program that converts between different units of measurement.\n",
    "-Prompt the user to choose the type of conversion (length, weight, volume).\n",
    "-Ask the user to input the value to be converted.\n",
    "-Perform the conversion and display the result.\n",
    "-Handle potential errors.\n",
    "-Implement functions for conversions and include docstrings."
   ]
  },
  {
   "cell_type": "code",
   "execution_count": 21,
   "id": "6fc633e1-56df-42f3-bbb8-7f974081027d",
   "metadata": {},
   "outputs": [
    {
     "name": "stdin",
     "output_type": "stream",
     "text": [
      "Choose a conversion type (length, weight, volume):  weight\n",
      "Enter the value to be converted:  50000\n",
      "Enter the unit to convert from:  grams\n",
      "Enter the unit to convert to:  kilograms\n"
     ]
    },
    {
     "name": "stdout",
     "output_type": "stream",
     "text": [
      "50000.0 grams is equal to 50.0 kilograms\n"
     ]
    }
   ],
   "source": [
    "def convert_length(value, unit_from, unit_to):\n",
    "    \"\"\"Convert between different units of length.\"\"\"\n",
    "    conversion_rates = {'meters': 1, 'kilometers': 0.001, 'centimeters': 100, 'inches': 39.37}\n",
    "    return value * conversion_rates[unit_to] / conversion_rates[unit_from]\n",
    "\n",
    "def convert_weight(value, unit_from, unit_to):\n",
    "    \"\"\"Convert between different units of weight.\"\"\"\n",
    "    conversion_rates = {'grams': 1, 'kilograms': 0.001, 'pounds': 0.00220462}\n",
    "    return value * conversion_rates[unit_to] / conversion_rates[unit_from]\n",
    "\n",
    "def convert_volume(value, unit_from, unit_to):\n",
    "    \"\"\"Convert between different units of volume.\"\"\"\n",
    "    conversion_rates = {'liters': 1, 'milliliters': 1000, 'gallons': 0.264172}\n",
    "    return value * conversion_rates[unit_to] / conversion_rates[unit_from]\n",
    "\n",
    "def unit_conversion():\n",
    "    \"\"\"Main function to perform unit conversions.\"\"\"\n",
    "    try:\n",
    "        conversion_type = input(\"Choose a conversion type (length, weight, volume): \").lower()\n",
    "        value = float(input(\"Enter the value to be converted: \"))\n",
    "        unit_from = input(\"Enter the unit to convert from: \").lower()\n",
    "        unit_to = input(\"Enter the unit to convert to: \").lower()\n",
    "\n",
    "        if conversion_type == 'length':\n",
    "            result = convert_length(value, unit_from, unit_to)\n",
    "        elif conversion_type == 'weight':\n",
    "            result = convert_weight(value, unit_from, unit_to)\n",
    "        elif conversion_type == 'volume':\n",
    "            result = convert_volume(value, unit_from, unit_to)\n",
    "        else:\n",
    "            raise ValueError(\"Invalid conversion type\")\n",
    "        \n",
    "        print(f\"{value} {unit_from} is equal to {result} {unit_to}\")\n",
    "\n",
    "    except ValueError as e:\n",
    "        print(f\"Error: {e}\")\n",
    "\n",
    "unit_conversion()\n"
   ]
  },
  {
   "cell_type": "markdown",
   "id": "f6d620f9-317b-4788-8e7c-dfa5b09f43f7",
   "metadata": {},
   "source": [
    "b.Create a Python program that performs various mathematical operations on a list of numbers.\n",
    "Prompt the user to choose an operation (sum, average, maximum, or minimum).\n",
    "Ask the user to input a list of numbers.\n",
    "Perform the selected operation and display the result.\n",
    "Handle potential errors.\n",
    "Implement functions for each operation.\n"
   ]
  },
  {
   "cell_type": "code",
   "execution_count": 23,
   "id": "47cc76d5-0463-4dc8-acf6-109cf75544e9",
   "metadata": {},
   "outputs": [
    {
     "name": "stdout",
     "output_type": "stream",
     "text": [
      "Choose an operation:\n",
      "1. Sum\n",
      "2. Average\n",
      "3. Maximum\n",
      "4. Minimum\n"
     ]
    },
    {
     "name": "stdin",
     "output_type": "stream",
     "text": [
      "Enter the number corresponding to your choice (1-4):  3\n",
      "Enter a list of numbers separated by spaces:  4 5 2 1 1 1 1 1\n"
     ]
    },
    {
     "name": "stdout",
     "output_type": "stream",
     "text": [
      "The maximum number is: 5.0\n"
     ]
    }
   ],
   "source": [
    "def calculate_sum(numbers):\n",
    "    return sum(numbers)\n",
    "\n",
    "def calculate_average(numbers):\n",
    "    if len(numbers) == 0:\n",
    "        raise ValueError(\"Cannot calculate average of an empty list.\")\n",
    "    return sum(numbers) / len(numbers)\n",
    "\n",
    "def calculate_maximum(numbers):\n",
    "    if len(numbers) == 0:\n",
    "        raise ValueError(\"Cannot find maximum of an empty list.\")\n",
    "    return max(numbers)\n",
    "\n",
    "def calculate_minimum(numbers):\n",
    "    if len(numbers) == 0:\n",
    "        raise ValueError(\"Cannot find minimum of an empty list.\")\n",
    "    return min(numbers)\n",
    "\n",
    "def main():\n",
    "    print(\"Choose an operation:\")\n",
    "    print(\"1. Sum\")\n",
    "    print(\"2. Average\")\n",
    "    print(\"3. Maximum\")\n",
    "    print(\"4. Minimum\")\n",
    "    try:\n",
    "        operation_choice = int(input(\"Enter the number corresponding to your choice (1-4): \"))\n",
    "        if operation_choice not in [1, 2, 3, 4]:\n",
    "            print(\"Invalid choice. Please enter a number between 1 and 4.\")\n",
    "            return\n",
    "        numbers_input = input(\"Enter a list of numbers separated by spaces: \")\n",
    "        numbers = list(map(float, numbers_input.split()))\n",
    "        if operation_choice == 1:\n",
    "            result = calculate_sum(numbers)\n",
    "            print(f\"The sum of the numbers is: {result}\")\n",
    "        elif operation_choice == 2:\n",
    "            result = calculate_average(numbers)\n",
    "            print(f\"The average of the numbers is: {result}\")\n",
    "        elif operation_choice == 3:\n",
    "            result = calculate_maximum(numbers)\n",
    "            print(f\"The maximum number is: {result}\")\n",
    "        elif operation_choice == 4:\n",
    "            result = calculate_minimum(numbers)\n",
    "            print(f\"The minimum number is: {result}\")\n",
    "    except ValueError as ve:\n",
    "        print(f\"Error: {ve}\")\n",
    "    except Exception as e:\n",
    "        print(f\"An unexpected error occurred: {e}\")\n",
    "\n",
    "if __name__ == \"__main__\":\n",
    "    main()\n"
   ]
  },
  {
   "cell_type": "markdown",
   "id": "ff8c2770-6bc8-46b2-900e-5c878a5b4c35",
   "metadata": {},
   "source": [
    "2. Exercise on List Manipulation:\n",
    "Extract Every Other Element:\n",
    "a. Write a function extract_every_other(lst) that extracts every other element from a list.\n",
    "Slice a Sublist:"
   ]
  },
  {
   "cell_type": "code",
   "execution_count": 31,
   "id": "5ee8e0f7-7e72-446b-a452-36abf927db74",
   "metadata": {},
   "outputs": [
    {
     "name": "stdout",
     "output_type": "stream",
     "text": [
      "Every other element: [1, 3, 5, 7, 9]\n",
      "Sliced sublist: [3, 4, 5]\n"
     ]
    }
   ],
   "source": [
    "def extract_every_other(lst):\n",
    "    return lst[::2]\n",
    "\n",
    "def slice_sublist(lst, start, end):\n",
    "    return lst[start:end]\n",
    "\n",
    "list = [1, 2, 3, 4, 5, 6, 7, 8, 9]\n",
    "result1 = extract_every_other(list)\n",
    "print(f\"Every other element: {result1}\")\n",
    "result2 = slice_sublist(list, 2, 5)\n",
    "print(f\"Sliced sublist: {result2}\")\n"
   ]
  },
  {
   "cell_type": "markdown",
   "id": "04f98e91-276e-4e8c-b09a-8478dada6b93",
   "metadata": {},
   "source": [
    "b. Write a function get_sublist(lst, start, end) that returns a sublist between given indices.\n",
    "Reverse a List Using Slicing:"
   ]
  },
  {
   "cell_type": "code",
   "execution_count": 37,
   "id": "e2ae3fdc-31ce-44d2-baaf-1d5cb3cc9874",
   "metadata": {},
   "outputs": [
    {
     "name": "stdout",
     "output_type": "stream",
     "text": [
      "Sublist from index 1 to 9: [2, 3, 4, 5, 6, 7, 8, 9]\n",
      "Reversed list: [9, 8, 7, 6, 5, 4, 3, 2, 1]\n"
     ]
    }
   ],
   "source": [
    "sublist_result = get_sublist(my_list, 1, 9)\n",
    "print(f\"Sublist from index 1 to 9: {sublist_result}\")\n",
    "reversed_list = reverse_list(my_list)\n",
    "print(f\"Reversed list: {reversed_list}\")\n"
   ]
  },
  {
   "cell_type": "markdown",
   "id": "bd63c3f6-0ae1-4461-b3a5-94532730ad6c",
   "metadata": {},
   "source": [
    "c. Write a function reverse_list(lst) that reverses a list using slicing.\n",
    "Remove the First and Last Elements:"
   ]
  },
  {
   "cell_type": "code",
   "execution_count": 41,
   "id": "be7fdf54-a117-49fb-a402-ed1a9b31d0c1",
   "metadata": {},
   "outputs": [
    {
     "name": "stdout",
     "output_type": "stream",
     "text": [
      "Reversed list: [9, 8, 7, 6, 5, 4, 3, 2, 1]\n",
      "List after removing first and last elements: [2, 3, 4, 5, 6, 7, 8]\n"
     ]
    }
   ],
   "source": [
    "def reverse_list(lst):\n",
    "    return lst[::-1]\n",
    "\n",
    "def remove_first_and_last(lst):\n",
    "    return lst[1:-1]\n",
    "\n",
    "reversed_list = reverse_list(my_list)\n",
    "print(f\"Reversed list: {reversed_list}\")\n",
    "modified_list = remove_first_and_last(my_list)\n",
    "print(f\"List after removing first and last elements: {modified_list}\")\n"
   ]
  },
  {
   "cell_type": "markdown",
   "id": "b6c9c208-6331-4b62-b415-29fc5a135af8",
   "metadata": {},
   "source": [
    "d. Write a function remove_first_last(lst) that removes the first and last elements of a list.\n",
    "Get the First n Elements:"
   ]
  },
  {
   "cell_type": "code",
   "execution_count": 43,
   "id": "4a3879c2-7ae2-44e9-bb2c-afe67f1af896",
   "metadata": {},
   "outputs": [
    {
     "name": "stdout",
     "output_type": "stream",
     "text": [
      "List after removing first and last elements: [2, 3, 4, 5, 6, 7, 8]\n",
      "First 4 elements: [1, 2, 3, 4]\n"
     ]
    }
   ],
   "source": [
    "def remove_first_last(lst):\n",
    "    return lst[1:-1]\n",
    "\n",
    "def get_first_n_elements(lst, n):\n",
    "    return lst[:n]\n",
    "\n",
    "new_list = remove_first_last(list)\n",
    "print(f\"List after removing first and last elements: {new_list}\")\n",
    "first_n_elements = get_first_n_elements(list, 4)\n",
    "print(f\"First 4 elements: {first_n_elements}\")\n"
   ]
  },
  {
   "cell_type": "markdown",
   "id": "2ab15350-d25b-48fb-a384-ce19b2c7d686",
   "metadata": {},
   "source": [
    "e. Write a function get_first_n(lst, n) that extracts the first n elements from a list.\n",
    "Extract Elements from the End:"
   ]
  },
  {
   "cell_type": "code",
   "execution_count": 45,
   "id": "a73b81d4-3d3b-4e55-b08c-fe6da26d850c",
   "metadata": {},
   "outputs": [
    {
     "name": "stdout",
     "output_type": "stream",
     "text": [
      "First 4 elements: [1, 2, 3, 4]\n",
      "Last 3 elements: [7, 8, 9]\n"
     ]
    }
   ],
   "source": [
    "def get_first_n(lst, n):\n",
    "    return lst[:n]\n",
    "\n",
    "def extract_elements_from_end(lst, n):\n",
    "    return lst[-n:]\n",
    "\n",
    "first_n_elements = get_first_n(list, 4)\n",
    "print(f\"First 4 elements: {first_n_elements}\")\n",
    "last_n_elements = extract_elements_from_end(list, 3)\n",
    "print(f\"Last 3 elements: {last_n_elements}\")"
   ]
  },
  {
   "cell_type": "markdown",
   "id": "a92029ec-4d69-4fb6-afb0-2f8c066cf798",
   "metadata": {},
   "source": [
    "f. Write a function get_last_n(lst, n) that extracts the last n elements.\n",
    "Extract Elements in Reverse Order:"
   ]
  },
  {
   "cell_type": "code",
   "execution_count": 47,
   "id": "51226190-5995-4228-94a6-a72b0aca8df0",
   "metadata": {},
   "outputs": [
    {
     "name": "stdout",
     "output_type": "stream",
     "text": [
      "Last 3 elements: [7, 8, 9]\n",
      "Elements in reverse order: [9, 8, 7, 6, 5, 4, 3, 2, 1]\n"
     ]
    }
   ],
   "source": [
    "def get_last_n(lst, n):\n",
    "    return lst[-n:]\n",
    "\n",
    "def extract_elements_in_reverse(lst):\n",
    "    return lst[::-1]\n",
    "    \n",
    "last_n_elements = get_last_n(list, 3)\n",
    "print(f\"Last 3 elements: {last_n_elements}\")\n",
    "reversed_elements = extract_elements_in_reverse(list)\n",
    "print(f\"Elements in reverse order: {reversed_elements}\")"
   ]
  },
  {
   "cell_type": "markdown",
   "id": "8b8c4a87-ae80-4885-bcc1-50d53ac35916",
   "metadata": {},
   "source": [
    "g. Write a function reverse_skip(lst) that extracts every second element starting from the second-to-last."
   ]
  },
  {
   "cell_type": "code",
   "execution_count": 49,
   "id": "9fd80324-3400-416f-884c-961798c81929",
   "metadata": {},
   "outputs": [
    {
     "name": "stdout",
     "output_type": "stream",
     "text": [
      "Every second element starting from the second-to-last: [8, 6, 4, 2]\n"
     ]
    }
   ],
   "source": [
    "def reverse_skip(lst):\n",
    "    return lst[-2::-2]\n",
    "    \n",
    "list = [1, 2, 3, 4, 5, 6, 7, 8, 9]\n",
    "result = reverse_skip(list)\n",
    "print(f\"Every second element starting from the second-to-last: {result}\")\n"
   ]
  },
  {
   "cell_type": "markdown",
   "id": "260c41a7-f80f-4e09-925b-143349adc855",
   "metadata": {},
   "source": [
    "3. Exercise on Nested List:\n",
    "a. Flatten a Nested List:"
   ]
  },
  {
   "cell_type": "code",
   "execution_count": 1,
   "id": "acafcad7-3c5c-4ae4-aca0-38939c062b12",
   "metadata": {},
   "outputs": [
    {
     "name": "stdout",
     "output_type": "stream",
     "text": [
      "Flattened list: [1, 2, 3, 4, 5, 6, 7, 8, 9]\n"
     ]
    }
   ],
   "source": [
    "import numpy as np\n",
    "\n",
    "def flatten(lst):\n",
    "    flat_list = []\n",
    "    for item in lst:\n",
    "        if isinstance(item, list):\n",
    "            flat_list.extend(flatten(item))\n",
    "        else:\n",
    "            flat_list.append(item)\n",
    "    return flat_list\n",
    "\n",
    "nested_list = [1, [2, 3, [4, 5]], 6, [7, [8, 9]]]\n",
    "flattened_list = flatten(nested_list)\n",
    "print(\"Flattened list:\", flattened_list)\n"
   ]
  },
  {
   "cell_type": "markdown",
   "id": "e1427a22-7dc9-4b00-8d6b-f26b5921f2c1",
   "metadata": {},
   "source": [
    "b. Write a function flatten(lst) that converts a nested list into a single-level list.\n",
    "Access Nested List Elements:"
   ]
  },
  {
   "cell_type": "code",
   "execution_count": 3,
   "id": "8950e68c-d194-4a37-8403-31412f1f6c1b",
   "metadata": {},
   "outputs": [
    {
     "name": "stdout",
     "output_type": "stream",
     "text": [
      "Flattened list: [1, 2, 3, 4, 5, 6, 7, 8, 9]\n",
      "Accessed nested element: 4\n"
     ]
    }
   ],
   "source": [
    "import numpy as np\n",
    "\n",
    "def flatten(lst):\n",
    "    flat_list = []\n",
    "    for item in lst:\n",
    "        if isinstance(item, list):\n",
    "            flat_list.extend(flatten(item))\n",
    "        else:\n",
    "            flat_list.append(item)\n",
    "    return flat_list\n",
    "\n",
    "def access_nested_element(lst, indices):\n",
    "    for index in indices:\n",
    "        lst = lst[index]\n",
    "    return lst\n",
    "\n",
    "nested_list = [1, [2, 3, [4, 5]], 6, [7, [8, 9]]]\n",
    "flattened_list = flatten(nested_list)\n",
    "print(\"Flattened list:\", flattened_list)\n",
    "indices = [1, 2, 0]  \n",
    "accessed_element = access_nested_element(nested_list, indices)\n",
    "print(\"Accessed nested element:\", accessed_element)\n"
   ]
  },
  {
   "cell_type": "markdown",
   "id": "ce198379-e487-4408-9c2f-300200b432b4",
   "metadata": {},
   "source": [
    "c. Write a function access_nested_element(lst, indices) that retrieves a specific element using index positions.\n",
    "Sum of All Elements in a Nested List:"
   ]
  },
  {
   "cell_type": "code",
   "execution_count": 5,
   "id": "b1fe9bb3-1bf2-4217-86a5-8bd5d5b64a61",
   "metadata": {},
   "outputs": [
    {
     "name": "stdout",
     "output_type": "stream",
     "text": [
      "Accessed nested element: 4\n",
      "Sum of all elements in the nested list: 45\n"
     ]
    }
   ],
   "source": [
    "import numpy as np\n",
    "\n",
    "def access_nested_element(lst, indices):\n",
    "    for index in indices:\n",
    "        lst = lst[index]\n",
    "    return lst\n",
    "\n",
    "def sum_nested(lst):\n",
    "    total = 0\n",
    "    for item in lst:\n",
    "        if isinstance(item, list):\n",
    "            total += sum_nested(item)\n",
    "        else:\n",
    "            total += item\n",
    "    return total\n",
    "\n",
    "nested_list = [1, [2, 3, [4, 5]], 6, [7, [8, 9]]]\n",
    "indices = [1, 2, 0]\n",
    "accessed_element = access_nested_element(nested_list, indices)\n",
    "print(\"Accessed nested element:\", accessed_element)\n",
    "\n",
    "total_sum = sum_nested(nested_list)\n",
    "print(\"Sum of all elements in the nested list:\", total_sum)\n"
   ]
  },
  {
   "cell_type": "markdown",
   "id": "c12e8784-3cb0-4492-8456-0ee5f08bdb4d",
   "metadata": {},
   "source": [
    "d. Write a function sum_nested(lst) that computes the sum of all numbers in a nested list.\n",
    "Remove Specific Elements from a Nested List:"
   ]
  },
  {
   "cell_type": "code",
   "execution_count": 7,
   "id": "cacc311d-7b9e-4f1d-9715-e64137e21442",
   "metadata": {},
   "outputs": [
    {
     "name": "stdout",
     "output_type": "stream",
     "text": [
      "Sum of all elements in the nested list: 45\n",
      "List after removing element 5: [1, [2, 3, [4]], 6, [7, [8, 9]]]\n"
     ]
    }
   ],
   "source": [
    "import numpy as np\n",
    "\n",
    "def sum_nested(lst):\n",
    "    total = 0\n",
    "    for item in lst:\n",
    "        if isinstance(item, list):\n",
    "            total += sum_nested(item)\n",
    "        else:\n",
    "            total += item\n",
    "    return total\n",
    "\n",
    "def remove_element(lst, elem):\n",
    "    return [remove_element(item, elem) if isinstance(item, list) else item for item in lst if item != elem]\n",
    "\n",
    "nested_list = [1, [2, 3, [4, 5]], 6, [7, [8, 9]]]\n",
    "total_sum = sum_nested(nested_list)\n",
    "print(\"Sum of all elements in the nested list:\", total_sum)\n",
    "\n",
    "modified_list = remove_element(nested_list, 5)\n",
    "print(\"List after removing element 5:\", modified_list)\n"
   ]
  },
  {
   "cell_type": "markdown",
   "id": "8af703ce-710a-45f4-9764-395283d0a929",
   "metadata": {},
   "source": [
    "e. Write a function remove_element(lst, elem) that removes all occurrences of a given element.\n",
    "Find the Maximum Element in a Nested List:"
   ]
  },
  {
   "cell_type": "code",
   "execution_count": 9,
   "id": "a17a2556-810d-4977-b6c6-5ddd4caa8787",
   "metadata": {},
   "outputs": [
    {
     "name": "stdout",
     "output_type": "stream",
     "text": [
      "List after removing element 5: [1, [2, 3, [4]], 6, [7, [8, 9]]]\n",
      "Maximum element in the nested list: 9\n"
     ]
    }
   ],
   "source": [
    "import numpy as np\n",
    "\n",
    "def remove_element(lst, elem):\n",
    "    return [remove_element(item, elem) if isinstance(item, list) else item for item in lst if item != elem]\n",
    "\n",
    "def find_max(lst):\n",
    "    max_elem = float('-inf')\n",
    "    for item in lst:\n",
    "        if isinstance(item, list):\n",
    "            max_elem = max(max_elem, find_max(item))\n",
    "        else:\n",
    "            max_elem = max(max_elem, item)\n",
    "    return max_elem\n",
    "\n",
    "nested_list = [1, [2, 3, [4, 5]], 6, [7, [8, 9]]]\n",
    "modified_list = remove_element(nested_list, 5)\n",
    "print(\"List after removing element 5:\", modified_list)\n",
    "\n",
    "max_element = find_max(nested_list)\n",
    "print(\"Maximum element in the nested list:\", max_element)\n"
   ]
  },
  {
   "cell_type": "markdown",
   "id": "681d9f72-2a40-4b60-9c08-93e0bf9830e0",
   "metadata": {},
   "source": [
    "f. Write a function find_max(lst) that finds the maximum element.\n",
    "Count Occurrences of an Element in a Nested List:"
   ]
  },
  {
   "cell_type": "code",
   "execution_count": 11,
   "id": "15353152-25b0-454f-a75a-71fe5b3caf18",
   "metadata": {},
   "outputs": [
    {
     "name": "stdout",
     "output_type": "stream",
     "text": [
      "Maximum element in the nested list: 9\n",
      "Occurrences of element 3 in the nested list: 1\n"
     ]
    }
   ],
   "source": [
    "import numpy as np\n",
    "\n",
    "def find_max(lst):\n",
    "    max_elem = float('-inf')\n",
    "    for item in lst:\n",
    "        if isinstance(item, list):\n",
    "            max_elem = max(max_elem, find_max(item))\n",
    "        else:\n",
    "            max_elem = max(max_elem, item)\n",
    "    return max_elem\n",
    "\n",
    "def count_occurrences(lst, elem):\n",
    "    count = 0\n",
    "    for item in lst:\n",
    "        if isinstance(item, list):\n",
    "            count += count_occurrences(item, elem)\n",
    "        elif item == elem:\n",
    "            count += 1\n",
    "    return count\n",
    "\n",
    "nested_list = [1, [2, 3, [4, 5]], 6, [7, [8, 9]]]\n",
    "max_element = find_max(nested_list)\n",
    "print(\"Maximum element in the nested list:\", max_element)\n",
    "\n",
    "occurrences = count_occurrences(nested_list, 3)\n",
    "print(\"Occurrences of element 3 in the nested list:\", occurrences)\n"
   ]
  },
  {
   "cell_type": "markdown",
   "id": "c667bc26-7b27-469d-8632-2ef96631e11c",
   "metadata": {},
   "source": [
    "g. Write a function count_occurrences(lst, elem) that counts occurrences of an element.\n",
    "Flatten a List of Lists of Lists:"
   ]
  },
  {
   "cell_type": "code",
   "execution_count": 13,
   "id": "0c1cf303-3545-44f9-baa1-dc699fe79098",
   "metadata": {},
   "outputs": [
    {
     "name": "stdout",
     "output_type": "stream",
     "text": [
      "Occurrences of element 3 in the nested list: 1\n",
      "Flattened list of lists of lists: [1, 2, 3, 4, 5, 6, 7, 8, 9]\n"
     ]
    }
   ],
   "source": [
    "import numpy as np\n",
    "\n",
    "def count_occurrences(lst, elem):\n",
    "    count = 0\n",
    "    for item in lst:\n",
    "        if isinstance(item, list):\n",
    "            count += count_occurrences(item, elem)\n",
    "        elif item == elem:\n",
    "            count += 1\n",
    "    return count\n",
    "\n",
    "def deep_flatten(lst):\n",
    "    flat_list = []\n",
    "    for item in lst:\n",
    "        if isinstance(item, list):\n",
    "            flat_list.extend(deep_flatten(item))\n",
    "        else:\n",
    "            flat_list.append(item)\n",
    "    return flat_list\n",
    "\n",
    "nested_list = [1, [2, 3, [4, 5]], 6, [7, [8, 9]]]\n",
    "occurrences = count_occurrences(nested_list, 3)\n",
    "print(\"Occurrences of element 3 in the nested list:\", occurrences)\n",
    "\n",
    "deep_flattened_list = deep_flatten(nested_list)\n",
    "print(\"Flattened list of lists of lists:\", deep_flattened_list)\n"
   ]
  },
  {
   "cell_type": "markdown",
   "id": "3fc99873-d9a9-46bb-aff5-b2217d641926",
   "metadata": {},
   "source": [
    "h. Write a function deep_flatten(lst) that flattens deeply nested lists.\n",
    "Nested List Average:"
   ]
  },
  {
   "cell_type": "code",
   "execution_count": 15,
   "id": "64ebec2d-bd39-4305-b040-5774deba97e4",
   "metadata": {},
   "outputs": [
    {
     "name": "stdout",
     "output_type": "stream",
     "text": [
      "Flattened list of deeply nested lists: [1, 2, 3, 4, 5, 6, 7, 8, 9]\n",
      "Average of all elements in the nested list: 5.0\n"
     ]
    }
   ],
   "source": [
    "import numpy as np\n",
    "\n",
    "def deep_flatten(lst):\n",
    "    flat_list = []\n",
    "    for item in lst:\n",
    "        if isinstance(item, list):\n",
    "            flat_list.extend(deep_flatten(item))\n",
    "        else:\n",
    "            flat_list.append(item)\n",
    "    return flat_list\n",
    "\n",
    "def average_nested(lst):\n",
    "    total = 0\n",
    "    count = 0\n",
    "    for item in lst:\n",
    "        if isinstance(item, list):\n",
    "            total_sum, item_count = average_nested(item)\n",
    "            total += total_sum\n",
    "            count += item_count\n",
    "        else:\n",
    "            total += item\n",
    "            count += 1\n",
    "    return total, count\n",
    "\n",
    "nested_list = [1, [2, 3, [4, 5]], 6, [7, [8, 9]]]\n",
    "flattened_list = deep_flatten(nested_list)\n",
    "print(\"Flattened list of deeply nested lists:\", flattened_list)\n",
    "\n",
    "total, count = average_nested(nested_list)\n",
    "average = total / count if count != 0 else 0\n",
    "print(\"Average of all elements in the nested list:\", average)\n"
   ]
  },
  {
   "cell_type": "markdown",
   "id": "e5fb3c14-859b-4c66-81b7-f2c653623553",
   "metadata": {},
   "source": [
    "i. Write a function average_nested(lst) that computes the average of all elements"
   ]
  },
  {
   "cell_type": "code",
   "execution_count": null,
   "id": "d3436902-cf15-42d7-a1b2-7049ab1bec50",
   "metadata": {},
   "outputs": [],
   "source": []
  },
  {
   "cell_type": "markdown",
   "id": "8f26f020-e59a-4439-8ba5-a684ca913a8b",
   "metadata": {},
   "source": [
    "4. Exercise on NumPy:\n",
    "a. Array Creation:\n",
    "-Initialize an empty 2x2 array.\n",
    "-Initialize an all-ones 4x2 array.\n",
    "-Create an array filled with a specific value.\n",
    "-Convert a list to a NumPy array."
   ]
  },
  {
   "cell_type": "code",
   "execution_count": 93,
   "id": "26c9e9a3-9539-4c78-87d1-bd0d02ef26ae",
   "metadata": {},
   "outputs": [
    {
     "name": "stdout",
     "output_type": "stream",
     "text": [
      "Empty 2x2 array:\n",
      "[]\n",
      "\n",
      "All-ones 4x2 array:\n",
      "[[1. 1.]\n",
      " [1. 1.]\n",
      " [1. 1.]\n",
      " [1. 1.]]\n",
      "\n",
      "Array filled with a specific value (7):\n",
      "[[7 7 7]\n",
      " [7 7 7]\n",
      " [7 7 7]]\n",
      "\n",
      "Converted NumPy array from list:\n",
      "[1 2 3 4]\n"
     ]
    }
   ],
   "source": [
    "import numpy as np\n",
    "\n",
    "# 1. Initialize an Empty 2x2 Array\n",
    "empty_array = np.empty((0, 0))\n",
    "print(\"Empty 2x2 array:\")\n",
    "print(empty_array)\n",
    "\n",
    "# 2. Initialize an All-Ones 4x2 Array\n",
    "ones_array = np.ones((4, 2))\n",
    "print(\"\\nAll-ones 4x2 array:\")\n",
    "print(ones_array)\n",
    "\n",
    "# 3. Create an Array Filled with a Specific Value (7)\n",
    "value_array = np.full((3, 3), 7)\n",
    "print(\"\\nArray filled with a specific value (7):\")\n",
    "print(value_array)\n",
    "\n",
    "# 4. Convert a List to a NumPy Array\n",
    "my_list = [1, 2, 3, 4]\n",
    "numpy_array = np.array(my_list)\n",
    "print(\"\\nConverted NumPy array from list:\")\n",
    "print(numpy_array)\n"
   ]
  },
  {
   "cell_type": "markdown",
   "id": "a2b93362-5e96-45fb-8780-a2bc0a73795e",
   "metadata": {},
   "source": [
    "b.Array Manipulation:\n",
    "-Create an array with values from 10 to 49.\n",
    "-Create a 3x3 matrix with values from 0 to 8.\n",
    "-Create a 3x3 identity matrix.\n",
    "-Generate a random array of size 30 and compute its mean.\n",
    "-Create a 10x10 random array and find the min and max values.\n"
   ]
  },
  {
   "cell_type": "code",
   "execution_count": 1,
   "id": "4a16a724-ce39-4f51-b7af-d3dd13437f68",
   "metadata": {},
   "outputs": [
    {
     "name": "stdout",
     "output_type": "stream",
     "text": [
      "Array with values from 10 to 49:\n",
      "[10 11 12 13 14 15 16 17 18 19 20 21 22 23 24 25 26 27 28 29 30 31 32 33\n",
      " 34 35 36 37 38 39 40 41 42 43 44 45 46 47 48 49]\n",
      "\n",
      "3x3 matrix with values from 0 to 8:\n",
      "[[0 1 2]\n",
      " [3 4 5]\n",
      " [6 7 8]]\n",
      "\n",
      "3x3 identity matrix:\n",
      "[[1. 0. 0.]\n",
      " [0. 1. 0.]\n",
      " [0. 0. 1.]]\n",
      "\n",
      "Random array of size 30:\n",
      "[0.13604029 0.72713256 0.76546426 0.82023342 0.46581976 0.28285196\n",
      " 0.95840775 0.97573532 0.33296019 0.20843419 0.83973915 0.14646825\n",
      " 0.87994274 0.04094337 0.90824729 0.62810689 0.29169373 0.9022157\n",
      " 0.56950201 0.86431681 0.93924886 0.12881331 0.36268052 0.15618473\n",
      " 0.30951882 0.22879903 0.62731186 0.72304661 0.03325869 0.12707155]\n",
      "Mean of the random array: 0.512672986554382\n",
      "\n",
      "10x10 random array:\n",
      "[[0.29683863 0.51009603 0.94716552 0.80193239 0.42460073 0.25991585\n",
      "  0.78598447 0.68244536 0.83937846 0.45938582]\n",
      " [0.59532087 0.44872299 0.89789008 0.88797476 0.31473637 0.63566477\n",
      "  0.8565172  0.5741027  0.85972346 0.65854665]\n",
      " [0.63109307 0.5090245  0.18399285 0.49574416 0.11408557 0.36138513\n",
      "  0.238469   0.40944729 0.1645446  0.74919113]\n",
      " [0.79399543 0.30922108 0.95876316 0.2452678  0.67663624 0.10155232\n",
      "  0.94614838 0.85739932 0.55661998 0.42653768]\n",
      " [0.56020406 0.83880086 0.10086296 0.42990088 0.91224528 0.91642676\n",
      "  0.22731809 0.49344713 0.53351826 0.416327  ]\n",
      " [0.02512528 0.9122468  0.97915271 0.51931756 0.75566831 0.47339137\n",
      "  0.53118573 0.15873064 0.70373676 0.2595555 ]\n",
      " [0.29603887 0.87249488 0.53703889 0.88987153 0.05246869 0.95018228\n",
      "  0.32812989 0.3434292  0.78493629 0.46881872]\n",
      " [0.63746307 0.82503376 0.71080841 0.61614361 0.04133537 0.87080912\n",
      "  0.62765981 0.44421007 0.12398724 0.23423116]\n",
      " [0.16394403 0.7190867  0.21136153 0.97308011 0.38926337 0.442995\n",
      "  0.90105525 0.60813055 0.31145131 0.69338882]\n",
      " [0.76802694 0.06665681 0.92144056 0.620573   0.3634974  0.41940147\n",
      "  0.34265107 0.09377419 0.16952878 0.41729398]]\n",
      "Min value: 0.025125281274094635\n",
      "Max value: 0.9791527138403681\n"
     ]
    }
   ],
   "source": [
    "import numpy as np\n",
    "array_10_to_49 = np.arange(10, 50)\n",
    "print(\"Array with values from 10 to 49:\")\n",
    "print(array_10_to_49)\n",
    "\n",
    "matrix_3x3 = np.arange(9).reshape(3, 3)\n",
    "print(\"\\n3x3 matrix with values from 0 to 8:\")\n",
    "print(matrix_3x3)\n",
    "\n",
    "identity_matrix = np.eye(3)\n",
    "print(\"\\n3x3 identity matrix:\")\n",
    "print(identity_matrix)\n",
    "\n",
    "random_array = np.random.rand(30)\n",
    "mean_value = random_array.mean()\n",
    "print(\"\\nRandom array of size 30:\")\n",
    "print(random_array)\n",
    "print(f\"Mean of the random array: {mean_value}\")\n",
    "random_10x10 = np.random.rand(10, 10)\n",
    "\n",
    "min_value = random_10x10.min()\n",
    "max_value = random_10x10.max()\n",
    "print(\"\\n10x10 random array:\")\n",
    "print(random_10x10)\n",
    "print(f\"Min value: {min_value}\")\n",
    "print(f\"Max value: {max_value}\")\n"
   ]
  },
  {
   "cell_type": "markdown",
   "id": "4105fba1-d857-450d-a9a3-68108bf4361c",
   "metadata": {},
   "source": [
    "c. Array Operations:\n",
    "Perform addition, subtraction, multiplication, and dot product on given arrays.\n",
    "Matrix Operations:\n",
    "Prove mathematical properties using NumPy (e.g., \n",
    "𝐴\n",
    "⋅\n",
    "𝐴\n",
    "−\n",
    "1\n",
    "=\n",
    "𝐼\n",
    "A⋅A \n",
    "−1\n",
    " =I).\n",
    "NumPy Performance Comparison:\n",
    "\n",
    "Compare performance of element-wise operations and matrix multiplications using Python lists vs NumPy arrays."
   ]
  },
  {
   "cell_type": "code",
   "execution_count": 1,
   "id": "b429ca39-e08f-4390-9773-3f787795a0d7",
   "metadata": {},
   "outputs": [
    {
     "name": "stdout",
     "output_type": "stream",
     "text": [
      "Addition result: [5 7 9]\n",
      "Subtraction result: [-3 -3 -3]\n",
      "Multiplication result: [ 4 10 18]\n",
      "Dot product result: 32\n",
      "\n",
      "A * A_inv = I (Identity Matrix):\n",
      "[[1. 0.]\n",
      " [0. 1.]]\n"
     ]
    },
    {
     "ename": "KeyboardInterrupt",
     "evalue": "",
     "output_type": "error",
     "traceback": [
      "\u001b[1;31m---------------------------------------------------------------------------\u001b[0m",
      "\u001b[1;31mKeyboardInterrupt\u001b[0m                         Traceback (most recent call last)",
      "Cell \u001b[1;32mIn[1], line 43\u001b[0m\n\u001b[0;32m     40\u001b[0m np_add_time \u001b[38;5;241m=\u001b[39m time\u001b[38;5;241m.\u001b[39mtime() \u001b[38;5;241m-\u001b[39m start_time\n\u001b[0;32m     42\u001b[0m start_time \u001b[38;5;241m=\u001b[39m time\u001b[38;5;241m.\u001b[39mtime()\n\u001b[1;32m---> 43\u001b[0m list_matrix_mult_result \u001b[38;5;241m=\u001b[39m [[\u001b[38;5;28msum\u001b[39m(list_a[i][k] \u001b[38;5;241m*\u001b[39m list_b[k][j] \u001b[38;5;28;01mfor\u001b[39;00m k \u001b[38;5;129;01min\u001b[39;00m \u001b[38;5;28mrange\u001b[39m(size)) \u001b[38;5;28;01mfor\u001b[39;00m j \u001b[38;5;129;01min\u001b[39;00m \u001b[38;5;28mrange\u001b[39m(size)] \u001b[38;5;28;01mfor\u001b[39;00m i \u001b[38;5;129;01min\u001b[39;00m \u001b[38;5;28mrange\u001b[39m(size)]\n\u001b[0;32m     44\u001b[0m list_matrix_mult_time \u001b[38;5;241m=\u001b[39m time\u001b[38;5;241m.\u001b[39mtime() \u001b[38;5;241m-\u001b[39m start_time\n\u001b[0;32m     46\u001b[0m start_time \u001b[38;5;241m=\u001b[39m time\u001b[38;5;241m.\u001b[39mtime()\n",
      "Cell \u001b[1;32mIn[1], line 43\u001b[0m, in \u001b[0;36m<genexpr>\u001b[1;34m(.0)\u001b[0m\n\u001b[0;32m     40\u001b[0m np_add_time \u001b[38;5;241m=\u001b[39m time\u001b[38;5;241m.\u001b[39mtime() \u001b[38;5;241m-\u001b[39m start_time\n\u001b[0;32m     42\u001b[0m start_time \u001b[38;5;241m=\u001b[39m time\u001b[38;5;241m.\u001b[39mtime()\n\u001b[1;32m---> 43\u001b[0m list_matrix_mult_result \u001b[38;5;241m=\u001b[39m [[\u001b[38;5;28msum\u001b[39m(list_a[i][k] \u001b[38;5;241m*\u001b[39m list_b[k][j] \u001b[38;5;28;01mfor\u001b[39;00m k \u001b[38;5;129;01min\u001b[39;00m \u001b[38;5;28mrange\u001b[39m(size)) \u001b[38;5;28;01mfor\u001b[39;00m j \u001b[38;5;129;01min\u001b[39;00m \u001b[38;5;28mrange\u001b[39m(size)] \u001b[38;5;28;01mfor\u001b[39;00m i \u001b[38;5;129;01min\u001b[39;00m \u001b[38;5;28mrange\u001b[39m(size)]\n\u001b[0;32m     44\u001b[0m list_matrix_mult_time \u001b[38;5;241m=\u001b[39m time\u001b[38;5;241m.\u001b[39mtime() \u001b[38;5;241m-\u001b[39m start_time\n\u001b[0;32m     46\u001b[0m start_time \u001b[38;5;241m=\u001b[39m time\u001b[38;5;241m.\u001b[39mtime()\n",
      "\u001b[1;31mKeyboardInterrupt\u001b[0m: "
     ]
    }
   ],
   "source": [
    "import numpy as np\n",
    "import time\n",
    "\n",
    "array_a = np.array([1, 2, 3])\n",
    "array_b = np.array([4, 5, 6])\n",
    "\n",
    "addition_result = array_a + array_b\n",
    "print(\"Addition result:\", addition_result)\n",
    "\n",
    "subtraction_result = array_a - array_b\n",
    "print(\"Subtraction result:\", subtraction_result)\n",
    "\n",
    "multiplication_result = array_a * array_b\n",
    "print(\"Multiplication result:\", multiplication_result)\n",
    "\n",
    "dot_product_result = np.dot(array_a, array_b)\n",
    "print(\"Dot product result:\", dot_product_result)\n",
    "\n",
    "A = np.array([[4, 7], [2, 6]])\n",
    "\n",
    "A_inv = np.linalg.inv(A)\n",
    "\n",
    "identity_matrix = np.dot(A, A_inv)\n",
    "print(\"\\nA * A_inv = I (Identity Matrix):\")\n",
    "print(identity_matrix)\n",
    "\n",
    "size = 1000\n",
    "list_a = [[i for i in range(size)] for _ in range(size)]\n",
    "list_b = [[i for i in range(size)] for _ in range(size)]\n",
    "\n",
    "np_array_a = np.array(list_a)\n",
    "np_array_b = np.array(list_b)\n",
    "\n",
    "start_time = time.time()\n",
    "list_add_result = [[list_a[i][j] + list_b[i][j] for j in range(size)] for i in range(size)]\n",
    "list_add_time = time.time() - start_time\n",
    "\n",
    "start_time = time.time()\n",
    "np_add_result = np_array_a + np_array_b\n",
    "np_add_time = time.time() - start_time\n",
    "\n",
    "start_time = time.time()\n",
    "list_matrix_mult_result = [[sum(list_a[i][k] * list_b[k][j] for k in range(size)) for j in range(size)] for i in range(size)]\n",
    "list_matrix_mult_time = time.time() - start_time\n",
    "\n",
    "start_time = time.time()\n",
    "np_matrix_mult_result = np.dot(np_array_a, np_array_b)\n",
    "np_matrix_mult_time = time.time() - start_time\n",
    "\n",
    "print(f\"\\nElement-wise addition with Python lists took: {list_add_time:.6f} seconds\")\n",
    "print(f\"Element-wise addition with NumPy took: {np_add_time:.6f} seconds\")\n",
    "\n",
    "print(f\"Matrix multiplication with Python lists took: {list_matrix_mult_time:.6f} seconds\")\n",
    "print(f\"Matrix multiplication with NumPy took: {np_matrix_mult_time:.6f} seconds\")\n"
   ]
  },
  {
   "cell_type": "code",
   "execution_count": null,
   "id": "b5cded33-982c-44ce-8af1-156b1db4fc38",
   "metadata": {},
   "outputs": [],
   "source": []
  }
 ],
 "metadata": {
  "kernelspec": {
   "display_name": "Python 3 (ipykernel)",
   "language": "python",
   "name": "python3"
  },
  "language_info": {
   "codemirror_mode": {
    "name": "ipython",
    "version": 3
   },
   "file_extension": ".py",
   "mimetype": "text/x-python",
   "name": "python",
   "nbconvert_exporter": "python",
   "pygments_lexer": "ipython3",
   "version": "3.12.4"
  }
 },
 "nbformat": 4,
 "nbformat_minor": 5
}
